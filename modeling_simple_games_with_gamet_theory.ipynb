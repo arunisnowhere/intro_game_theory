{
 "cells": [
  {
   "cell_type": "markdown",
   "id": "eb3cd388",
   "metadata": {},
   "source": [
    "# Modeling Simple Games and Nash Equilibria\n",
    "Here, we model some simple games, i.e., strategic interactions between self-interested participants, and then find their Nash Equilibrium. The Python library Nashpy is used here."
   ]
  },
  {
   "cell_type": "code",
   "execution_count": 1,
   "id": "6d74e742",
   "metadata": {},
   "outputs": [],
   "source": [
    "# First, import required modules\n",
    "import numpy as np\n",
    "import nashpy as nash"
   ]
  },
  {
   "cell_type": "markdown",
   "id": "7621a8d8",
   "metadata": {},
   "source": [
    "## 1. Computer networking game\n",
    "Your computer and another computer are sending messages to the internet. They manage congesion by implementing backoff mechanism in the TCP protocol. In the backoff mechanism, the computer reduces the speed of its message transmission when it recognizes a congestion.\n",
    "\n",
    "– If both computers implement the backoff mechanism: both get 1 ms delay \n",
    "\n",
    "– If one implements the backoff mechanism (correct) while the other does not (defective): the delay is 4 ms for the correct implementation and 0 ms for the defective implementation\n",
    "\n",
    "– If both do not implement the backoff mechanism (defective): both experience a 3 ms delay\n",
    "\n",
    "If you wanted to minimize the amount of delay that you experienced on your computer, how would you play this game? "
   ]
  },
  {
   "cell_type": "code",
   "execution_count": 2,
   "id": "d88a8846",
   "metadata": {},
   "outputs": [
    {
     "data": {
      "text/plain": [
       "Bi matrix game with payoff matrices:\n",
       "\n",
       "Row player:\n",
       "[[1 0]\n",
       " [4 3]]\n",
       "\n",
       "Column player:\n",
       "[[1 4]\n",
       " [0 3]]"
      ]
     },
     "execution_count": 2,
     "metadata": {},
     "output_type": "execute_result"
    }
   ],
   "source": [
    "row_player_A = np.array([[1,0],[4,3]])\n",
    "col_player_B = np.array([[1,4],[0,3]])\n",
    "comp_net_game = nash.Game(row_player_A,col_player_B)\n",
    "comp_net_game"
   ]
  },
  {
   "cell_type": "code",
   "execution_count": 3,
   "id": "ad43c04b",
   "metadata": {},
   "outputs": [
    {
     "name": "stdout",
     "output_type": "stream",
     "text": [
      "(array([0., 1.]), array([0., 1.]))\n"
     ]
    }
   ],
   "source": [
    "# Find the Nash Equilibrium with Support Enumeration\n",
    "equilibria = comp_net_game.support_enumeration()\n",
    "for eq in equilibria:\n",
    "    print(eq)"
   ]
  },
  {
   "cell_type": "markdown",
   "id": "ef708e14",
   "metadata": {},
   "source": [
    "**Nash Equilibrium Solution**: This result can be interpreted as follows. In the problem, each player has 2 strategies. Player A has strategies = (Top, Bottom). Player B has strategies = (Left, Right).\n",
    "\n",
    "The output shows that \n",
    "\n",
    "Player A chooses strategy 2 i.e. ‘Bottom’ as given by ‘1’ in the second position of the array.\n",
    "\n",
    "Player B chooses strategy 1 i.e. ‘Right’ as given by ‘1’ in the second position of the array. \n",
    "\n",
    "Hence, the Nash Equilibrium is (Bottom, Right), i.e., (defective, defective)."
   ]
  },
  {
   "cell_type": "markdown",
   "id": "46c75f6e",
   "metadata": {},
   "source": [
    "## 2. Rock, Paper, Scissors\n",
    "Find the Nash Equilibrium in the traditional rock, paper, scissors game (https://en.wikipedia.org/wiki/Rock_paper_scissors).\n",
    "\n",
    "- Each player simultaneously forms one of three shapes with an outstretched hand. \n",
    "- These shapes are \"rock\" (a closed fist), \"paper\" (a flat hand), and \"scissors\" (a fist with the index finger and middle finger extended, forming a V). \n",
    "\n",
    "- A player who decides to play rock will beat another player who has chosen scissors (\"rock crushes/blunts scissors\"). \n",
    "- But a play of rock will lose to one who has played paper (\"paper covers rock\"). \n",
    "- And a play of paper will lose to a play of scissors (\"scissors cuts paper\"). \n",
    "- If both players choose the same shape, the game is tied and is usually immediately replayed to break the tie."
   ]
  },
  {
   "cell_type": "code",
   "execution_count": 4,
   "id": "a345c724",
   "metadata": {
    "scrolled": true
   },
   "outputs": [
    {
     "data": {
      "text/plain": [
       "Zero sum game with payoff matrices:\n",
       "\n",
       "Row player:\n",
       "[[ 0 -1  1]\n",
       " [ 1  0 -1]\n",
       " [-1  1  0]]\n",
       "\n",
       "Column player:\n",
       "[[ 0  1 -1]\n",
       " [-1  0  1]\n",
       " [ 1 -1  0]]"
      ]
     },
     "execution_count": 4,
     "metadata": {},
     "output_type": "execute_result"
    }
   ],
   "source": [
    "row_player_A = np.array([[0,-1,1],[1,0,-1], [-1,1,0]])\n",
    "col_player_B = np.array([[0,1,-1],[-1,0,1], [1,-1,0]])\n",
    "ro_pa_sc_game = nash.Game(row_player_A,col_player_B)\n",
    "ro_pa_sc_game"
   ]
  },
  {
   "cell_type": "code",
   "execution_count": 5,
   "id": "6dabf654",
   "metadata": {},
   "outputs": [
    {
     "name": "stdout",
     "output_type": "stream",
     "text": [
      "(array([0.33333333, 0.33333333, 0.33333333]), array([0.33333333, 0.33333333, 0.33333333]))\n"
     ]
    }
   ],
   "source": [
    "# Find the Nash Equilibrium with Support Enumeration\n",
    "equilibria = ro_pa_sc_game.support_enumeration()\n",
    "for eq in equilibria:\n",
    "    print(eq)"
   ]
  },
  {
   "cell_type": "markdown",
   "id": "50198e64",
   "metadata": {},
   "source": [
    "**Nash Equilibrium Solution**: Thus, this game has only one mixed-strategy Nash Equilibrium and no pure-strategy Nash Equilibrium. And this equilibrium is not very useful practically, because (1) you have to choose any one of the three alternatives (mixed strategy cannot be used), and (2) the games are repeated.\n",
    "\n",
    "This is a good illustration of the fact that while according to Nash's theorem, *all finite games must have at least one Nash Equilibria*, this theorem holds true only for mixed strategies and not for pure strategies!."
   ]
  },
  {
   "cell_type": "markdown",
   "id": "a025c7c7",
   "metadata": {},
   "source": [
    "## 3. Movie Watching"
   ]
  },
  {
   "cell_type": "markdown",
   "id": "24ace62f",
   "metadata": {},
   "source": [
    "Consider a situation where a husband and a wife want to watch something on TV; above all, they want to watch together. The wife wants to watch a live sports game while the husband wants to watch a romantic comedy. If they do this separately, then they are equally unhappy. They want to watch together, but they have conflicting preferences: thus, there is both cooperation and competition in this game."
   ]
  },
  {
   "cell_type": "code",
   "execution_count": 6,
   "id": "3bdd5c95",
   "metadata": {},
   "outputs": [
    {
     "data": {
      "text/plain": [
       "Bi matrix game with payoff matrices:\n",
       "\n",
       "Row player:\n",
       "[[2 0]\n",
       " [0 1]]\n",
       "\n",
       "Column player:\n",
       "[[1 0]\n",
       " [0 2]]"
      ]
     },
     "execution_count": 6,
     "metadata": {},
     "output_type": "execute_result"
    }
   ],
   "source": [
    "row_player_A = np.array([[2,0],[0,1]])\n",
    "col_player_B = np.array([[1,0],[0,2]])\n",
    "movie_watch_game = nash.Game(row_player_A,col_player_B)\n",
    "movie_watch_game"
   ]
  },
  {
   "cell_type": "code",
   "execution_count": 7,
   "id": "2c4b10d4",
   "metadata": {},
   "outputs": [
    {
     "name": "stdout",
     "output_type": "stream",
     "text": [
      "(array([1., 0.]), array([1., 0.]))\n",
      "(array([0., 1.]), array([0., 1.]))\n",
      "(array([0.66666667, 0.33333333]), array([0.33333333, 0.66666667]))\n"
     ]
    }
   ],
   "source": [
    "# Find the Nash Equilibrium with Support Enumeration\n",
    "equilibria = movie_watch_game.support_enumeration()\n",
    "for eq in equilibria:\n",
    "    print(eq)"
   ]
  },
  {
   "cell_type": "markdown",
   "id": "b4727b22",
   "metadata": {},
   "source": [
    "**Nash Equilibrium Solution**: This game has two pure strategy Nash Equilibriums and one mixed strategy Nash Equilibriums."
   ]
  },
  {
   "cell_type": "markdown",
   "id": "75445d89",
   "metadata": {},
   "source": [
    "## 4. Prisoner's Dilemma\n",
    "\n",
    "**Problem**\n",
    "\n",
    "Two prisoners who have partnered in a crime get caught and are arrested and imprisoned. They are being questioned in separate rooms so that they cannot communicate with each other. The prosecutors lack sufficient evidence to convict the pair for the main crime. So, the prosecutors simultaneously offer each prisoner a bargain. \n",
    "\n",
    "Each prisoner is given the opportunity either to: betray the other by testifying that the other committed the crime, or to cooperate with the other by remaining silent. The offer (made separately) is:\n",
    "\n",
    "• *Betrayal-Betrayal*: If A and B betray each other, both will serves 2 years in prison \n",
    "\n",
    "• *Betrayal-Sucker*: If A betrays B but B remains silent, A will be set free and B will serve 3 years in prison (and vice versa)\n",
    "\n",
    "• *Co-operation-Cooperation*: If A and B both remain silent, both of them will only serve 1 year in prison (for a lesser crime for whcih the prosecutors have evidence)\n",
    "\n",
    "Note: It is implied that the prisoners will have no opportunity to reward or punish their partner other than the prison sentences they get, and that their decision will not affect their reputation in the future."
   ]
  },
  {
   "cell_type": "code",
   "execution_count": 8,
   "id": "ae7b48fd",
   "metadata": {},
   "outputs": [
    {
     "data": {
      "text/plain": [
       "Bi matrix game with payoff matrices:\n",
       "\n",
       "Row player:\n",
       "[[2 3]\n",
       " [0 1]]\n",
       "\n",
       "Column player:\n",
       "[[2 0]\n",
       " [3 1]]"
      ]
     },
     "execution_count": 8,
     "metadata": {},
     "output_type": "execute_result"
    }
   ],
   "source": [
    "# Create the payoff matrix\n",
    "A = np.array([[2,3],[0,1]]) # A is the row player\n",
    "B = np.array([[2,0],[3,1]]) # B is the column player\n",
    "prisoner_dilemma_game = nash.Game(A,B)\n",
    "prisoner_dilemma_game"
   ]
  },
  {
   "cell_type": "code",
   "execution_count": 9,
   "id": "916d79b2",
   "metadata": {},
   "outputs": [
    {
     "name": "stdout",
     "output_type": "stream",
     "text": [
      "(array([1., 0.]), array([1., 0.]))\n"
     ]
    }
   ],
   "source": [
    "# Find the Nash Equilibrium with Support Enumeration\n",
    "equilibria = prisoner_dilemma_game.support_enumeration()\n",
    "for eq in equilibria:\n",
    "    print(eq)"
   ]
  },
  {
   "cell_type": "markdown",
   "id": "c8ce54f2",
   "metadata": {},
   "source": [
    "**Nash Equilibrium Solution**: The Nash Equilibrium is (2,2), i.e., betray each other. This is because betraying a partner offers a greater reward than cooperating. So, all purely rational self-interested prisoners would betray the other, and so the only possible outcome for two purely rational prisoners is for them to betray each other. \n",
    "\n",
    "The interesting part of this result is that pursuing individual rewards logically lead both of the prisoners to betray, when they would get a better reward if they both kept silent. In reality, humans display a systematic bias towards cooperative behavior in this and similar games, much more so than predicted by simple models of “rational” self-interested action."
   ]
  },
  {
   "cell_type": "markdown",
   "id": "aca831b5",
   "metadata": {},
   "source": [
    "## Infinite Prisoner's Dilemma\n",
    "When the game is played multiple number of times, then there is a range of other strategic possibilities available to each player. The strategies depend on whether the game is played for a finite/infinite number of times.\n",
    "\n",
    "For an analysis of how this could work, see https://axelrod.readthedocs.io/en/stable/reference/description.html"
   ]
  }
 ],
 "metadata": {
  "kernelspec": {
   "display_name": "Python 3",
   "language": "python",
   "name": "python3"
  },
  "language_info": {
   "codemirror_mode": {
    "name": "ipython",
    "version": 3
   },
   "file_extension": ".py",
   "mimetype": "text/x-python",
   "name": "python",
   "nbconvert_exporter": "python",
   "pygments_lexer": "ipython3",
   "version": "3.7.9"
  }
 },
 "nbformat": 4,
 "nbformat_minor": 5
}
